{
  "nbformat": 4,
  "nbformat_minor": 0,
  "metadata": {
    "colab": {
      "provenance": [],
      "authorship_tag": "ABX9TyMlrbx4zlbP4ullf1QgHhAL",
      "include_colab_link": true
    },
    "kernelspec": {
      "name": "python3",
      "display_name": "Python 3"
    },
    "language_info": {
      "name": "python"
    }
  },
  "cells": [
    {
      "cell_type": "markdown",
      "metadata": {
        "id": "view-in-github",
        "colab_type": "text"
      },
      "source": [
        "<a href=\"https://colab.research.google.com/github/wep69/GeoModels-page/blob/master/Diferenca_tratamentos_network_meta.ipynb\" target=\"_parent\"><img src=\"https://colab.research.google.com/assets/colab-badge.svg\" alt=\"Open In Colab\"/></a>"
      ]
    },
    {
      "cell_type": "code",
      "execution_count": 3,
      "metadata": {
        "colab": {
          "base_uri": "https://localhost:8080/"
        },
        "id": "w86BGGMkMMDn",
        "outputId": "0fa7ad10-a04b-48d4-94c3-08129719c036"
      },
      "outputs": [
        {
          "output_type": "stream",
          "name": "stdout",
          "text": [
            "Original DataFrame:\n",
            "   treatment  study       mean    std_dev\n",
            "0          A      1  54.967142   6.409242\n",
            "1          A      2  48.617357  13.021970\n",
            "2          A      3  56.476885   5.745506\n",
            "3          A      4  65.230299  14.868869\n",
            "4          A      5  47.658466  12.722448\n",
            "5          A      6  47.658630   6.987157\n",
            "6          A      7  65.792128   5.055221\n",
            "7          A      8  57.674347  13.154614\n",
            "8          A      9  45.305256  12.068573\n",
            "9          A     10  55.425600  12.290072\n",
            "10         B      1  45.365823  12.712703\n",
            "11         B      2  45.342702   5.740447\n",
            "12         B      3  52.419623   8.584657\n",
            "13         B      4  30.867198   6.158691\n",
            "14         B      5  32.750822  13.631034\n",
            "15         B      6  44.377125  11.232981\n",
            "16         B      7  39.871689   8.308980\n",
            "17         B      8  53.142473   5.635584\n",
            "18         B      9  40.919759   8.109823\n",
            "19         B     10  35.876963   8.251833\n",
            "20         C      1  64.656488  12.296062\n",
            "21         C      2  47.742237  11.375575\n",
            "22         C      3  50.675282  13.872127\n",
            "23         C      4  35.752518   9.722149\n",
            "24         C      5  44.556173   6.195942\n",
            "25         C      6  51.109226  12.132448\n",
            "26         C      7  38.490064  12.607850\n",
            "27         C      8  53.756980  10.612772\n",
            "28         C      9  43.993613  12.709672\n",
            "29         C     10  47.083063   9.937956\n",
            "30         D      1  43.982934  10.227328\n",
            "31         D      2  68.522782   9.275410\n",
            "32         D      3  49.865028   5.254191\n",
            "33         D      4  39.422891   6.078914\n",
            "34         D      5  58.225449   5.314292\n",
            "35         D      6  37.791564  11.364104\n",
            "36         D      7  52.088636   8.143560\n",
            "37         D      8  30.403299  10.085707\n",
            "38         D      9  36.718140  14.075665\n",
            "39         D     10  51.968612   7.492922\n",
            "40         E      1  57.384666   9.103829\n",
            "41         E      2  51.713683  12.555511\n",
            "42         E      3  48.843517   7.287982\n",
            "43         E      4  46.988963   5.769799\n",
            "44         E      5  35.214780   7.897515\n",
            "45         E      6  42.801558   6.612213\n",
            "46         E      7  45.393612  14.296977\n",
            "47         E      8  60.571222  13.081204\n",
            "48         E      9  53.436183  11.334038\n",
            "49         E     10  32.369598  13.714606\n",
            "\n",
            "Differences DataFrame:\n",
            "    treatment_1 treatment_2  mean_diff  std_dev_diff\n",
            "0             A           B   9.601318     14.236967\n",
            "1             A           B   9.624439      8.604133\n",
            "2             A           B   2.547519     10.713297\n",
            "3             A           B  24.099944      8.888636\n",
            "4             A           B  22.216320     15.062652\n",
            "..          ...         ...        ...           ...\n",
            "995           D           E   9.167054      9.993260\n",
            "996           D           E   6.575000     16.141481\n",
            "997           D           E  -8.602610     15.075204\n",
            "998           D           E  -1.467571     13.586916\n",
            "999           D           E  19.599014     15.627997\n",
            "\n",
            "[1000 rows x 4 columns]\n"
          ]
        }
      ],
      "source": [
        "import pandas as pd\n",
        "import numpy as np\n",
        "\n",
        "# Simulate the data\n",
        "np.random.seed(42)\n",
        "data = {\n",
        "    'treatment': np.repeat(['A', 'B', 'C', 'D', 'E'], 10),\n",
        "    'study': np.tile(np.arange(1, 11), 5),\n",
        "    'mean': np.random.normal(50, 10, 50),\n",
        "    'std_dev': np.random.uniform(5, 15, 50)\n",
        "}\n",
        "\n",
        "# Create a DataFrame\n",
        "df = pd.DataFrame(data)\n",
        "\n",
        "# Calculate the differences between all treatment combinations\n",
        "results = []\n",
        "for i, row1 in df.iterrows():\n",
        "    for j, row2 in df.iterrows():\n",
        "        if i < j and row1['treatment'] != row2['treatment']:\n",
        "            diff_mean = row1['mean'] - row2['mean']\n",
        "            diff_std_dev = np.sqrt(row1['std_dev']**2 + row2['std_dev']**2)\n",
        "            results.append([row1['treatment'], row2['treatment'], diff_mean, diff_std_dev])\n",
        "\n",
        "# Create a new DataFrame with the differences\n",
        "diff_df = pd.DataFrame(results, columns=['treatment_1', 'treatment_2', 'mean_diff', 'std_dev_diff'])\n",
        "\n",
        "# Display the original DataFrame and the differences DataFrame\n",
        "print(\"Original DataFrame:\")\n",
        "print(df)\n",
        "print(\"\\nDifferences DataFrame:\")\n",
        "print(diff_df)"
      ]
    }
  ]
}