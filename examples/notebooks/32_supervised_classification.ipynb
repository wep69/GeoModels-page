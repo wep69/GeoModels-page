{
  "cells": [
    {
      "cell_type": "markdown",
      "metadata": {
        "id": "ofAmgDtux-PV"
      },
      "source": [
        "<a href=\"https://githubtocolab.com/gee-community/geemap/blob/master/examples/notebooks/32_supervised_classification.ipynb\" target=\"_parent\"><img src=\"https://colab.research.google.com/assets/colab-badge.svg\" alt=\"Open in Colab\"/></a>\n",
        "\n",
        "Uncomment the following line to install [geemap](https://geemap.org) if needed."
      ],
      "id": "ofAmgDtux-PV"
    },
    {
      "cell_type": "code",
      "execution_count": null,
      "metadata": {
        "id": "J35FZuFUx-Pa"
      },
      "outputs": [],
      "source": [
        "# !pip install geemap"
      ],
      "id": "J35FZuFUx-Pa"
    },
    {
      "cell_type": "markdown",
      "metadata": {
        "id": "Ha4rfybDx-Pc"
      },
      "source": [
        "# Machine Learning with Earth Engine - Supervised Classification"
      ],
      "id": "Ha4rfybDx-Pc"
    },
    {
      "cell_type": "markdown",
      "metadata": {
        "id": "NKyGP_0Tx-Pc"
      },
      "source": [
        "## Supervised classification algorithms available in Earth Engine\n",
        "\n",
        "Source: https://developers.google.com/earth-engine/classification\n",
        "\n",
        "The `Classifier` package handles supervised classification by traditional ML algorithms running in Earth Engine. These classifiers include CART, RandomForest, NaiveBayes and SVM. The general workflow for classification is:\n",
        "\n",
        "1. Collect training data. Assemble features which have a property that stores the known class label and properties storing numeric values for the predictors.\n",
        "2. Instantiate a classifier. Set its parameters if necessary.\n",
        "3. Train the classifier using the training data.\n",
        "4. Classify an image or feature collection.\n",
        "5. Estimate classification error with independent validation data.\n",
        "\n",
        "The training data is a `FeatureCollection` with a property storing the class label and properties storing predictor variables. Class labels should be consecutive, integers starting from 0. If necessary, use remap() to convert class values to consecutive integers. The predictors should be numeric."
      ],
      "id": "NKyGP_0Tx-Pc"
    },
    {
      "cell_type": "markdown",
      "metadata": {
        "id": "PzKhEOBOx-Pd"
      },
      "source": [
        "![](https://i.imgur.com/vROsEiq.png)"
      ],
      "id": "PzKhEOBOx-Pd"
    },
    {
      "cell_type": "markdown",
      "metadata": {
        "id": "g6k57YkVx-Pd"
      },
      "source": [
        "## Step-by-step tutorial\n",
        "\n",
        "### Import libraries"
      ],
      "id": "g6k57YkVx-Pd"
    },
    {
      "cell_type": "code",
      "execution_count": null,
      "metadata": {
        "id": "y89z_bKWx-Pe"
      },
      "outputs": [],
      "source": [
        "import ee\n",
        "import geemap"
      ],
      "id": "y89z_bKWx-Pe"
    },
    {
      "cell_type": "markdown",
      "metadata": {
        "id": "5GCyy24dx-Pe"
      },
      "source": [
        "### Create an interactive map"
      ],
      "id": "5GCyy24dx-Pe"
    },
    {
      "cell_type": "code",
      "execution_count": null,
      "metadata": {
        "id": "3fGE7FYzx-Pf"
      },
      "outputs": [],
      "source": [
        "Map = geemap.Map()\n",
        "Map"
      ],
      "id": "3fGE7FYzx-Pf"
    },
    {
      "cell_type": "markdown",
      "metadata": {
        "id": "0BwSdpTfx-Pf"
      },
      "source": [
        "### Add data to the map"
      ],
      "id": "0BwSdpTfx-Pf"
    },
    {
      "cell_type": "code",
      "execution_count": null,
      "metadata": {
        "id": "3CwfXZBLx-Pg"
      },
      "outputs": [],
      "source": [
        "point = ee.Geometry.Point([-122.4439, 37.7538])\n",
        "# point = ee.Geometry.Point([-87.7719, 41.8799])\n",
        "\n",
        "image = (\n",
        "    ee.ImageCollection('LANDSAT/LC08/C01/T1_SR')\n",
        "    .filterBounds(point)\n",
        "    .filterDate('2016-01-01', '2016-12-31')\n",
        "    .sort('CLOUD_COVER')\n",
        "    .first()\n",
        "    .select('B[1-7]')\n",
        ")\n",
        "\n",
        "vis_params = {'min': 0, 'max': 3000, 'bands': ['B5', 'B4', 'B3']}\n",
        "\n",
        "Map.centerObject(point, 8)\n",
        "Map.addLayer(image, vis_params, \"Landsat-8\")"
      ],
      "id": "3CwfXZBLx-Pg"
    },
    {
      "cell_type": "markdown",
      "metadata": {
        "id": "lyXfrKPQx-Pg"
      },
      "source": [
        "### Check image properties"
      ],
      "id": "lyXfrKPQx-Pg"
    },
    {
      "cell_type": "code",
      "execution_count": null,
      "metadata": {
        "id": "JATEY5udx-Pg"
      },
      "outputs": [],
      "source": [
        "ee.Date(image.get('system:time_start')).format('YYYY-MM-dd').getInfo()"
      ],
      "id": "JATEY5udx-Pg"
    },
    {
      "cell_type": "code",
      "execution_count": null,
      "metadata": {
        "id": "JJfeEatCx-Ph"
      },
      "outputs": [],
      "source": [
        "image.get('CLOUD_COVER').getInfo()"
      ],
      "id": "JJfeEatCx-Ph"
    },
    {
      "cell_type": "markdown",
      "metadata": {
        "id": "GvlT8ElGx-Ph"
      },
      "source": [
        "### Make training dataset\n",
        "\n",
        "There are several ways you can create a region for generating the training dataset.\n",
        "\n",
        "- Draw a shape (e.g., rectangle) on the map and the use `region = Map.user_roi`\n",
        "- Define a geometry, such as `region = ee.Geometry.Rectangle([-122.6003, 37.4831, -121.8036, 37.8288])`\n",
        "- Create a buffer zone around a point, such as `region = ee.Geometry.Point([-122.4439, 37.7538]).buffer(10000)`\n",
        "- If you don't define a region, it will use the image footprint by default"
      ],
      "id": "GvlT8ElGx-Ph"
    },
    {
      "cell_type": "code",
      "execution_count": null,
      "metadata": {
        "id": "WlHZMdmAx-Ph"
      },
      "outputs": [],
      "source": [
        "# region = Map.user_roi\n",
        "# region = ee.Geometry.Rectangle([-122.6003, 37.4831, -121.8036, 37.8288])\n",
        "# region = ee.Geometry.Point([-122.4439, 37.7538]).buffer(10000)"
      ],
      "id": "WlHZMdmAx-Ph"
    },
    {
      "cell_type": "markdown",
      "metadata": {
        "id": "jR4bTmTxx-Ph"
      },
      "source": [
        "In this example, we are going to use the [USGS National Land Cover Database (NLCD)](https://developers.google.com/earth-engine/datasets/catalog/USGS_NLCD) to create label dataset for training\n",
        "\n",
        "\n",
        "![](https://i.imgur.com/7QoRXxu.png)"
      ],
      "id": "jR4bTmTxx-Ph"
    },
    {
      "cell_type": "code",
      "execution_count": null,
      "metadata": {
        "id": "uuFt0AGex-Pj"
      },
      "outputs": [],
      "source": [
        "nlcd = ee.Image('USGS/NLCD/NLCD2016').select('landcover').clip(image.geometry())\n",
        "Map.addLayer(nlcd, {}, 'NLCD')\n",
        "Map"
      ],
      "id": "uuFt0AGex-Pj"
    },
    {
      "cell_type": "code",
      "execution_count": null,
      "metadata": {
        "id": "UamiMy2mx-Pj"
      },
      "outputs": [],
      "source": [
        "# Make the training dataset.\n",
        "points = nlcd.sample(\n",
        "    **{\n",
        "        'region': image.geometry(),\n",
        "        'scale': 30,\n",
        "        'numPixels': 5000,\n",
        "        'seed': 0,\n",
        "        'geometries': True,  # Set this to False to ignore geometries\n",
        "    }\n",
        ")\n",
        "\n",
        "Map.addLayer(points, {}, 'training', False)"
      ],
      "id": "UamiMy2mx-Pj"
    },
    {
      "cell_type": "code",
      "execution_count": null,
      "metadata": {
        "id": "VLSl1EN6x-Pj"
      },
      "outputs": [],
      "source": [
        "print(points.size().getInfo())"
      ],
      "id": "VLSl1EN6x-Pj"
    },
    {
      "cell_type": "code",
      "execution_count": null,
      "metadata": {
        "id": "g9sku5fgx-Pk"
      },
      "outputs": [],
      "source": [
        "print(points.first().getInfo())"
      ],
      "id": "g9sku5fgx-Pk"
    },
    {
      "cell_type": "markdown",
      "metadata": {
        "id": "RIEvpSirx-Pk"
      },
      "source": [
        "### Train the classifier"
      ],
      "id": "RIEvpSirx-Pk"
    },
    {
      "cell_type": "code",
      "execution_count": null,
      "metadata": {
        "id": "oetDGyiax-Pk"
      },
      "outputs": [],
      "source": [
        "# Use these bands for prediction.\n",
        "bands = ['B1', 'B2', 'B3', 'B4', 'B5', 'B6', 'B7']\n",
        "\n",
        "\n",
        "# This property of the table stores the land cover labels.\n",
        "label = 'landcover'\n",
        "\n",
        "# Overlay the points on the imagery to get training.\n",
        "training = image.select(bands).sampleRegions(\n",
        "    **{'collection': points, 'properties': [label], 'scale': 30}\n",
        ")\n",
        "\n",
        "# Train a CART classifier with default parameters.\n",
        "trained = ee.Classifier.smileCart().train(training, label, bands)"
      ],
      "id": "oetDGyiax-Pk"
    },
    {
      "cell_type": "code",
      "execution_count": null,
      "metadata": {
        "id": "UNnU55efx-Pk"
      },
      "outputs": [],
      "source": [
        "print(training.first().getInfo())"
      ],
      "id": "UNnU55efx-Pk"
    },
    {
      "cell_type": "markdown",
      "metadata": {
        "id": "voi1o9O8x-Pk"
      },
      "source": [
        "### Classify the image"
      ],
      "id": "voi1o9O8x-Pk"
    },
    {
      "cell_type": "code",
      "execution_count": null,
      "metadata": {
        "id": "KUH-u68Xx-Pk"
      },
      "outputs": [],
      "source": [
        "# Classify the image with the same bands used for training.\n",
        "result = image.select(bands).classify(trained)\n",
        "\n",
        "# # Display the clusters with random colors.\n",
        "Map.addLayer(result.randomVisualizer(), {}, 'classified')\n",
        "Map"
      ],
      "id": "KUH-u68Xx-Pk"
    },
    {
      "cell_type": "markdown",
      "metadata": {
        "id": "CRa_F3g2x-Pl"
      },
      "source": [
        "### Render categorical map\n",
        "\n",
        "To render a categorical map, we can set two image properties: `landcover_class_values` and `landcover_class_palette`. We can use the same style as the NLCD so that it is easy to compare the two maps."
      ],
      "id": "CRa_F3g2x-Pl"
    },
    {
      "cell_type": "code",
      "execution_count": null,
      "metadata": {
        "id": "eVVcgODkx-Pl"
      },
      "outputs": [],
      "source": [
        "class_values = nlcd.get('landcover_class_values').getInfo()\n",
        "class_values"
      ],
      "id": "eVVcgODkx-Pl"
    },
    {
      "cell_type": "code",
      "execution_count": null,
      "metadata": {
        "id": "k8vkK5FQx-Pl"
      },
      "outputs": [],
      "source": [
        "class_palette = nlcd.get('landcover_class_palette').getInfo()\n",
        "class_palette"
      ],
      "id": "k8vkK5FQx-Pl"
    },
    {
      "cell_type": "code",
      "execution_count": null,
      "metadata": {
        "id": "87tK1V44x-Pl"
      },
      "outputs": [],
      "source": [
        "landcover = result.set('classification_class_values', class_values)\n",
        "landcover = landcover.set('classification_class_palette', class_palette)"
      ],
      "id": "87tK1V44x-Pl"
    },
    {
      "cell_type": "code",
      "execution_count": null,
      "metadata": {
        "id": "gCAzu2Fnx-Pl"
      },
      "outputs": [],
      "source": [
        "Map.addLayer(landcover, {}, 'Land cover')\n",
        "Map"
      ],
      "id": "gCAzu2Fnx-Pl"
    },
    {
      "cell_type": "markdown",
      "metadata": {
        "id": "Zd1jXoLKx-Pl"
      },
      "source": [
        "### Visualize the result"
      ],
      "id": "Zd1jXoLKx-Pl"
    },
    {
      "cell_type": "code",
      "execution_count": null,
      "metadata": {
        "id": "H6Y2vUtlx-Pm"
      },
      "outputs": [],
      "source": [
        "print('Change layer opacity:')\n",
        "cluster_layer = Map.layers[-1]\n",
        "cluster_layer.interact(opacity=(0, 1, 0.1))"
      ],
      "id": "H6Y2vUtlx-Pm"
    },
    {
      "cell_type": "markdown",
      "metadata": {
        "id": "_4FGCMR8x-Pm"
      },
      "source": [
        "### Add a legend to the map"
      ],
      "id": "_4FGCMR8x-Pm"
    },
    {
      "cell_type": "code",
      "execution_count": null,
      "metadata": {
        "id": "rUfnIuz0x-Pm"
      },
      "outputs": [],
      "source": [
        "Map.add_legend(builtin_legend='NLCD')\n",
        "Map"
      ],
      "id": "rUfnIuz0x-Pm"
    },
    {
      "cell_type": "markdown",
      "metadata": {
        "id": "tVtxBofWx-Pm"
      },
      "source": [
        "### Export the result\n",
        "\n",
        "Export the result directly to your computer:"
      ],
      "id": "tVtxBofWx-Pm"
    },
    {
      "cell_type": "code",
      "execution_count": null,
      "metadata": {
        "id": "uyFu6mFpx-Pm"
      },
      "outputs": [],
      "source": [
        "import os\n",
        "\n",
        "out_dir = os.path.join(os.path.expanduser('~'), 'Downloads')\n",
        "out_file = os.path.join(out_dir, 'landcover.tif')"
      ],
      "id": "uyFu6mFpx-Pm"
    },
    {
      "cell_type": "code",
      "execution_count": null,
      "metadata": {
        "id": "IkweBZsrx-Pm"
      },
      "outputs": [],
      "source": [
        "geemap.ee_export_image(landcover, filename=out_file, scale=900)"
      ],
      "id": "IkweBZsrx-Pm"
    },
    {
      "cell_type": "markdown",
      "metadata": {
        "id": "xs6vDRU_x-Pn"
      },
      "source": [
        "Export the result to Google Drive:"
      ],
      "id": "xs6vDRU_x-Pn"
    },
    {
      "cell_type": "code",
      "execution_count": null,
      "metadata": {
        "id": "ct6gLukEx-Pu"
      },
      "outputs": [],
      "source": [
        "geemap.ee_export_image_to_drive(\n",
        "    landcover, description='landcover', folder='export', scale=900\n",
        ")"
      ],
      "id": "ct6gLukEx-Pu"
    }
  ],
  "metadata": {
    "kernelspec": {
      "display_name": "Python 3",
      "language": "python",
      "name": "python3"
    },
    "colab": {
      "provenance": []
    }
  },
  "nbformat": 4,
  "nbformat_minor": 5
}