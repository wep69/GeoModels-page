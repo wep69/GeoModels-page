{
  "nbformat": 4,
  "nbformat_minor": 0,
  "metadata": {
    "colab": {
      "name": "index.ipynb",
      "provenance": []
    },
    "kernelspec": {
      "name": "python3",
      "display_name": "Python 3"
    }
  },
  "cells": [
    {
      "cell_type": "markdown",
      "metadata": {
        "id": "sawLOXhjfkNF"
      },
      "source": [
        "# Google Earth Engine with Python (EEwPython)\n",
        "\n"
      ]
    },
    {
      "cell_type": "markdown",
      "metadata": {
        "id": "jz_TJMgG4xrr"
      },
      "source": [
        "<a href=\"https://colab.research.google.com/github/csaybar/EEwPython/blob/master/index.ipynb\"><img align=\"left\" src=\"https://colab.research.google.com/assets/colab-badge.svg\" alt=\"Open in Colab\" title=\"Open and Execute in Google Colaboratory\"></a>"
      ]
    },
    {
      "cell_type": "markdown",
      "metadata": {
        "id": "Fg8FC2mdfrtc"
      },
      "source": [
        "Maintainer:\n",
        "- [*`Cesar Aybar Camacho`*](https://csaybar.github.io)  < csaybar@gmail.com >\n",
        "- [*`Roy Yali Samaniego`*]()  < ryali93@gmail.com >\n",
        "\n",
        "<img src = 'https://earthengine.google.com/static/images/earth-engine-logo.png' width  =300px>\n"
      ]
    },
    {
      "cell_type": "markdown",
      "metadata": {
        "id": "wFN66ttWgeak"
      },
      "source": [
        "**Welcome!**\n",
        "\n",
        "The course **\"EEwPython\"** is a series of Jupyter notebook (colabs) to learn Google Earth Engine (GEE) with python. EEwPython is structured in two parts. The first one is an adaptation from all [Google Earth Engine Documentation](https://developers.google.com/earth-engine/) to be able to run in python, and the second one is a recompilation of different reproducible examples. If you want to contribute with EEwPython, do not doubt to keep in touch with us. All the material is released under the Apache 2.0 license.\n"
      ]
    },
    {
      "cell_type": "markdown",
      "metadata": {
        "id": "jgutoC1MiMML"
      },
      "source": [
        "## Table of Contents\n",
        "\n",
        "### 1. Google Earth Engine Guides\n",
        "- [1. Developer's Guide](1_Introduction.ipynb)\n",
        "- [2. Image](2_eeImage.ipynb)\n",
        "- [3. ImageCollection](3_eeImageCollection.ipynb)\n",
        "- [4. Geometry, Feature & FeatureCollections](4_features.ipynb)\n",
        "- [5. Reducer](5_Reducer.ipynb)\n",
        "- [6. Joins](6_Joins.ipynb)\n",
        "- [7. Chart](7_Chart.ipynb)\n",
        "- [8. Array](8_Array.ipynb)\n",
        "- [9. Specialized Algorithms](9_SpecializedAlgorithms.ipynb)\n",
        "- [10. Export data](10_Export.ipynb)\n",
        "\n",
        "### 2. Applications\n",
        "- [1. Climate Change - CMIP5 (plotly + GEE)](cmip5.ipynb)\n",
        "- [2. Crop Area estimation in Camana Valley using a Deep Neural Network (tensorflow)](dnn_demo.ipynb)\n",
        "- [3. U-Net + EarthEngine (Comming soon)](x)\n"
      ]
    }
  ]
}