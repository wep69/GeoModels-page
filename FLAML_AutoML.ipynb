{
  "nbformat": 4,
  "nbformat_minor": 0,
  "metadata": {
    "colab": {
      "provenance": [],
      "authorship_tag": "ABX9TyMuRRl8x7f7C37uL8o2oo8j",
      "include_colab_link": true
    },
    "kernelspec": {
      "name": "python3",
      "display_name": "Python 3"
    },
    "language_info": {
      "name": "python"
    },
    "accelerator": "TPU",
    "gpuClass": "standard"
  },
  "cells": [
    {
      "cell_type": "markdown",
      "metadata": {
        "id": "view-in-github",
        "colab_type": "text"
      },
      "source": [
        "<a href=\"https://colab.research.google.com/github/wep69/GeoModels-page/blob/master/FLAML_AutoML.ipynb\" target=\"_parent\"><img src=\"https://colab.research.google.com/assets/colab-badge.svg\" alt=\"Open In Colab\"/></a>"
      ]
    },
    {
      "cell_type": "code",
      "execution_count": 1,
      "metadata": {
        "colab": {
          "base_uri": "https://localhost:8080/"
        },
        "id": "17OgDL3UHs7I",
        "outputId": "503b473c-caa8-4ef6-ad9a-be0c25101a3f"
      },
      "outputs": [
        {
          "output_type": "stream",
          "name": "stdout",
          "text": [
            "Looking in indexes: https://pypi.org/simple, https://us-python.pkg.dev/colab-wheels/public/simple/\n",
            "Collecting virtualenv\n",
            "  Downloading virtualenv-20.23.0-py3-none-any.whl (3.3 MB)\n",
            "\u001b[2K     \u001b[90m━━━━━━━━━━━━━━━━━━━━━━━━━━━━━━━━━━━━━━━━\u001b[0m \u001b[32m3.3/3.3 MB\u001b[0m \u001b[31m24.8 MB/s\u001b[0m eta \u001b[36m0:00:00\u001b[0m\n",
            "\u001b[?25hRequirement already satisfied: filelock<4,>=3.11 in /usr/local/lib/python3.10/dist-packages (from virtualenv) (3.12.0)\n",
            "Requirement already satisfied: platformdirs<4,>=3.2 in /usr/local/lib/python3.10/dist-packages (from virtualenv) (3.3.0)\n",
            "Collecting distlib<1,>=0.3.6\n",
            "  Downloading distlib-0.3.6-py2.py3-none-any.whl (468 kB)\n",
            "\u001b[2K     \u001b[90m━━━━━━━━━━━━━━━━━━━━━━━━━━━━━━━━━━━━━━\u001b[0m \u001b[32m468.5/468.5 kB\u001b[0m \u001b[31m29.7 MB/s\u001b[0m eta \u001b[36m0:00:00\u001b[0m\n",
            "\u001b[?25hInstalling collected packages: distlib, virtualenv\n",
            "Successfully installed distlib-0.3.6 virtualenv-20.23.0\n"
          ]
        }
      ],
      "source": [
        "! pip install virtualenv"
      ]
    },
    {
      "cell_type": "code",
      "source": [
        "! virtualenv flaml"
      ],
      "metadata": {
        "colab": {
          "base_uri": "https://localhost:8080/"
        },
        "id": "slek4posH_Va",
        "outputId": "abd4f3bd-ddc7-4a7f-f782-e83742379353"
      },
      "execution_count": 2,
      "outputs": [
        {
          "output_type": "stream",
          "name": "stdout",
          "text": [
            "created virtual environment CPython3.10.11.final.0-64 in 1477ms\n",
            "  creator CPython3Posix(dest=/content/flaml, clear=False, no_vcs_ignore=False, global=False)\n",
            "  seeder FromAppData(download=False, pip=bundle, setuptools=bundle, wheel=bundle, via=copy, app_data_dir=/root/.local/share/virtualenv)\n",
            "    added seed packages: pip==23.1.2, setuptools==67.7.2, wheel==0.40.0\n",
            "  activators BashActivator,CShellActivator,FishActivator,NushellActivator,PowerShellActivator,PythonActivator\n"
          ]
        }
      ]
    },
    {
      "cell_type": "markdown",
      "source": [
        "Ativar o ambiente"
      ],
      "metadata": {
        "id": "sV5MeT24I85R"
      }
    },
    {
      "cell_type": "code",
      "source": [
        "!source /content/flaml/bin/activate; pip3 install flaml[notebook]"
      ],
      "metadata": {
        "id": "olTDH5ZwIz8S"
      },
      "execution_count": null,
      "outputs": []
    },
    {
      "cell_type": "code",
      "source": [
        "!source /content/flaml/bin/activate; pip3 install flaml[notebook] flaml[catboost] flaml[openai] flaml[vw] flaml[forecast] flaml[hf]  flaml[ray] flaml[spark]>=1.1.0   flaml[nni]  flaml[test] flaml[blendsearch] flaml[benchmark]"
      ],
      "metadata": {
        "id": "VXCiDp4FJ_l3"
      },
      "execution_count": null,
      "outputs": []
    },
    {
      "cell_type": "code",
      "source": [
        "from flaml.data import load_openml_dataset\n",
        "X_train, X_test, y_train, y_test = load_openml_dataset(dataset_id=1169, data_dir='./')"
      ],
      "metadata": {
        "colab": {
          "base_uri": "https://localhost:8080/"
        },
        "id": "EdlVj2N0TKa2",
        "outputId": "0e5b9a3b-fd61-4e5c-de9c-dd8cc63431d3"
      },
      "execution_count": 16,
      "outputs": [
        {
          "output_type": "stream",
          "name": "stderr",
          "text": [
            "/usr/local/lib/python3.10/dist-packages/xgboost/compat.py:31: FutureWarning: pandas.Int64Index is deprecated and will be removed from pandas in a future version. Use pandas.Index with the appropriate dtype instead.\n",
            "  from pandas import MultiIndex, Int64Index\n"
          ]
        },
        {
          "output_type": "stream",
          "name": "stdout",
          "text": [
            "download dataset from openml\n"
          ]
        },
        {
          "output_type": "stream",
          "name": "stderr",
          "text": [
            "DEBUG:openml.datasets.dataset:Saved dataset 1169: airlines to file /root/.openml/cache/org/openml/www/datasets/1169/dataset.pkl.py3\n"
          ]
        },
        {
          "output_type": "stream",
          "name": "stdout",
          "text": [
            "Dataset name: airlines\n",
            "X_train.shape: (404537, 7), y_train.shape: (404537,);\n",
            "X_test.shape: (134846, 7), y_test.shape: (134846,)\n"
          ]
        }
      ]
    },
    {
      "cell_type": "code",
      "source": [
        "X_train.head()"
      ],
      "metadata": {
        "colab": {
          "base_uri": "https://localhost:8080/",
          "height": 206
        },
        "id": "mZEl0ZHSUQju",
        "outputId": "e5a98b2a-81e8-4881-d46e-04d996b87096"
      },
      "execution_count": 17,
      "outputs": [
        {
          "output_type": "execute_result",
          "data": {
            "text/plain": [
              "       Airline  Flight AirportFrom AirportTo DayOfWeek   Time  Length\n",
              "249392      EV  5309.0         MDT       ATL         3  794.0   131.0\n",
              "166918      CO  1079.0         IAH       SAT         5  900.0    60.0\n",
              "89110       US  1636.0         CLE       CLT         1  530.0   103.0\n",
              "70258       WN   928.0         CMH       LAS         7  480.0   280.0\n",
              "492985      WN   729.0         GEG       LAS         3  630.0   140.0"
            ],
            "text/html": [
              "\n",
              "  <div id=\"df-ac809b77-b4a3-4d38-9009-bd32b276bc67\">\n",
              "    <div class=\"colab-df-container\">\n",
              "      <div>\n",
              "<style scoped>\n",
              "    .dataframe tbody tr th:only-of-type {\n",
              "        vertical-align: middle;\n",
              "    }\n",
              "\n",
              "    .dataframe tbody tr th {\n",
              "        vertical-align: top;\n",
              "    }\n",
              "\n",
              "    .dataframe thead th {\n",
              "        text-align: right;\n",
              "    }\n",
              "</style>\n",
              "<table border=\"1\" class=\"dataframe\">\n",
              "  <thead>\n",
              "    <tr style=\"text-align: right;\">\n",
              "      <th></th>\n",
              "      <th>Airline</th>\n",
              "      <th>Flight</th>\n",
              "      <th>AirportFrom</th>\n",
              "      <th>AirportTo</th>\n",
              "      <th>DayOfWeek</th>\n",
              "      <th>Time</th>\n",
              "      <th>Length</th>\n",
              "    </tr>\n",
              "  </thead>\n",
              "  <tbody>\n",
              "    <tr>\n",
              "      <th>249392</th>\n",
              "      <td>EV</td>\n",
              "      <td>5309.0</td>\n",
              "      <td>MDT</td>\n",
              "      <td>ATL</td>\n",
              "      <td>3</td>\n",
              "      <td>794.0</td>\n",
              "      <td>131.0</td>\n",
              "    </tr>\n",
              "    <tr>\n",
              "      <th>166918</th>\n",
              "      <td>CO</td>\n",
              "      <td>1079.0</td>\n",
              "      <td>IAH</td>\n",
              "      <td>SAT</td>\n",
              "      <td>5</td>\n",
              "      <td>900.0</td>\n",
              "      <td>60.0</td>\n",
              "    </tr>\n",
              "    <tr>\n",
              "      <th>89110</th>\n",
              "      <td>US</td>\n",
              "      <td>1636.0</td>\n",
              "      <td>CLE</td>\n",
              "      <td>CLT</td>\n",
              "      <td>1</td>\n",
              "      <td>530.0</td>\n",
              "      <td>103.0</td>\n",
              "    </tr>\n",
              "    <tr>\n",
              "      <th>70258</th>\n",
              "      <td>WN</td>\n",
              "      <td>928.0</td>\n",
              "      <td>CMH</td>\n",
              "      <td>LAS</td>\n",
              "      <td>7</td>\n",
              "      <td>480.0</td>\n",
              "      <td>280.0</td>\n",
              "    </tr>\n",
              "    <tr>\n",
              "      <th>492985</th>\n",
              "      <td>WN</td>\n",
              "      <td>729.0</td>\n",
              "      <td>GEG</td>\n",
              "      <td>LAS</td>\n",
              "      <td>3</td>\n",
              "      <td>630.0</td>\n",
              "      <td>140.0</td>\n",
              "    </tr>\n",
              "  </tbody>\n",
              "</table>\n",
              "</div>\n",
              "      <button class=\"colab-df-convert\" onclick=\"convertToInteractive('df-ac809b77-b4a3-4d38-9009-bd32b276bc67')\"\n",
              "              title=\"Convert this dataframe to an interactive table.\"\n",
              "              style=\"display:none;\">\n",
              "        \n",
              "  <svg xmlns=\"http://www.w3.org/2000/svg\" height=\"24px\"viewBox=\"0 0 24 24\"\n",
              "       width=\"24px\">\n",
              "    <path d=\"M0 0h24v24H0V0z\" fill=\"none\"/>\n",
              "    <path d=\"M18.56 5.44l.94 2.06.94-2.06 2.06-.94-2.06-.94-.94-2.06-.94 2.06-2.06.94zm-11 1L8.5 8.5l.94-2.06 2.06-.94-2.06-.94L8.5 2.5l-.94 2.06-2.06.94zm10 10l.94 2.06.94-2.06 2.06-.94-2.06-.94-.94-2.06-.94 2.06-2.06.94z\"/><path d=\"M17.41 7.96l-1.37-1.37c-.4-.4-.92-.59-1.43-.59-.52 0-1.04.2-1.43.59L10.3 9.45l-7.72 7.72c-.78.78-.78 2.05 0 2.83L4 21.41c.39.39.9.59 1.41.59.51 0 1.02-.2 1.41-.59l7.78-7.78 2.81-2.81c.8-.78.8-2.07 0-2.86zM5.41 20L4 18.59l7.72-7.72 1.47 1.35L5.41 20z\"/>\n",
              "  </svg>\n",
              "      </button>\n",
              "      \n",
              "  <style>\n",
              "    .colab-df-container {\n",
              "      display:flex;\n",
              "      flex-wrap:wrap;\n",
              "      gap: 12px;\n",
              "    }\n",
              "\n",
              "    .colab-df-convert {\n",
              "      background-color: #E8F0FE;\n",
              "      border: none;\n",
              "      border-radius: 50%;\n",
              "      cursor: pointer;\n",
              "      display: none;\n",
              "      fill: #1967D2;\n",
              "      height: 32px;\n",
              "      padding: 0 0 0 0;\n",
              "      width: 32px;\n",
              "    }\n",
              "\n",
              "    .colab-df-convert:hover {\n",
              "      background-color: #E2EBFA;\n",
              "      box-shadow: 0px 1px 2px rgba(60, 64, 67, 0.3), 0px 1px 3px 1px rgba(60, 64, 67, 0.15);\n",
              "      fill: #174EA6;\n",
              "    }\n",
              "\n",
              "    [theme=dark] .colab-df-convert {\n",
              "      background-color: #3B4455;\n",
              "      fill: #D2E3FC;\n",
              "    }\n",
              "\n",
              "    [theme=dark] .colab-df-convert:hover {\n",
              "      background-color: #434B5C;\n",
              "      box-shadow: 0px 1px 3px 1px rgba(0, 0, 0, 0.15);\n",
              "      filter: drop-shadow(0px 1px 2px rgba(0, 0, 0, 0.3));\n",
              "      fill: #FFFFFF;\n",
              "    }\n",
              "  </style>\n",
              "\n",
              "      <script>\n",
              "        const buttonEl =\n",
              "          document.querySelector('#df-ac809b77-b4a3-4d38-9009-bd32b276bc67 button.colab-df-convert');\n",
              "        buttonEl.style.display =\n",
              "          google.colab.kernel.accessAllowed ? 'block' : 'none';\n",
              "\n",
              "        async function convertToInteractive(key) {\n",
              "          const element = document.querySelector('#df-ac809b77-b4a3-4d38-9009-bd32b276bc67');\n",
              "          const dataTable =\n",
              "            await google.colab.kernel.invokeFunction('convertToInteractive',\n",
              "                                                     [key], {});\n",
              "          if (!dataTable) return;\n",
              "\n",
              "          const docLinkHtml = 'Like what you see? Visit the ' +\n",
              "            '<a target=\"_blank\" href=https://colab.research.google.com/notebooks/data_table.ipynb>data table notebook</a>'\n",
              "            + ' to learn more about interactive tables.';\n",
              "          element.innerHTML = '';\n",
              "          dataTable['output_type'] = 'display_data';\n",
              "          await google.colab.output.renderOutput(dataTable, element);\n",
              "          const docLink = document.createElement('div');\n",
              "          docLink.innerHTML = docLinkHtml;\n",
              "          element.appendChild(docLink);\n",
              "        }\n",
              "      </script>\n",
              "    </div>\n",
              "  </div>\n",
              "  "
            ]
          },
          "metadata": {},
          "execution_count": 17
        }
      ]
    },
    {
      "cell_type": "code",
      "source": [
        "''' import AutoML class from flaml package '''\n",
        "from flaml import AutoML\n",
        "automl = AutoML()"
      ],
      "metadata": {
        "id": "mGccgYL_UV1Q"
      },
      "execution_count": 18,
      "outputs": []
    },
    {
      "cell_type": "code",
      "source": [],
      "metadata": {
        "id": "TLHQUIgjUb0U"
      },
      "execution_count": null,
      "outputs": []
    },
    {
      "cell_type": "code",
      "execution_count": 19,
      "metadata": {
        "id": "XZkN8NulMf28"
      },
      "outputs": [],
      "source": [
        "settings = {\n",
        "    \"time_budget\": 600,  # total running time in seconds\n",
        "    \"metric\": 'accuracy', \n",
        "                        # check the documentation for options of metrics (https://microsoft.github.io/FLAML/docs/Use-Cases/Task-Oriented-AutoML#optimization-metric)\n",
        "    \"task\": 'classification',  # task type\n",
        "    \"log_file_name\": 'airlines_experiment.log',  # flaml log file\n",
        "    \"seed\": 7654321,    # random seed\n",
        "}\n"
      ]
    },
    {
      "cell_type": "code",
      "source": [],
      "metadata": {
        "id": "LL_tNs5DUgNE"
      },
      "execution_count": null,
      "outputs": []
    },
    {
      "cell_type": "code",
      "execution_count": 20,
      "metadata": {
        "tags": [
          "outputPrepend"
        ],
        "id": "hB3vAlxAMf28",
        "outputId": "f2734957-426f-41ae-9894-e29f43f7cc0d",
        "colab": {
          "base_uri": "https://localhost:8080/"
        }
      },
      "outputs": [
        {
          "output_type": "stream",
          "name": "stdout",
          "text": [
            "[flaml.automl.logger: 05-04 20:14:58] {1682} INFO - task = classification\n",
            "[flaml.automl.logger: 05-04 20:14:58] {1689} INFO - Data split method: stratified\n",
            "[flaml.automl.logger: 05-04 20:14:58] {1692} INFO - Evaluation method: holdout\n",
            "[flaml.automl.logger: 05-04 20:14:58] {1790} INFO - Minimizing error metric: 1-accuracy\n",
            "[flaml.automl.logger: 05-04 20:14:59] {1900} INFO - List of ML learners in AutoML Run: ['lgbm', 'rf', 'catboost', 'xgboost', 'extra_tree', 'xgb_limitdepth', 'lrl1']\n",
            "[flaml.automl.logger: 05-04 20:14:59] {2210} INFO - iteration 0, current learner lgbm\n",
            "[flaml.automl.logger: 05-04 20:14:59] {2336} INFO - Estimated sufficient time budget=44804s. Estimated necessary time budget=1100s.\n",
            "[flaml.automl.logger: 05-04 20:14:59] {2383} INFO -  at 1.7s,\testimator lgbm's best error=0.3777,\tbest estimator lgbm's best error=0.3777\n",
            "[flaml.automl.logger: 05-04 20:14:59] {2210} INFO - iteration 1, current learner lgbm\n",
            "[flaml.automl.logger: 05-04 20:14:59] {2383} INFO -  at 1.7s,\testimator lgbm's best error=0.3777,\tbest estimator lgbm's best error=0.3777\n",
            "[flaml.automl.logger: 05-04 20:14:59] {2210} INFO - iteration 2, current learner lgbm\n",
            "[flaml.automl.logger: 05-04 20:14:59] {2383} INFO -  at 1.9s,\testimator lgbm's best error=0.3614,\tbest estimator lgbm's best error=0.3614\n",
            "[flaml.automl.logger: 05-04 20:14:59] {2210} INFO - iteration 3, current learner xgboost\n",
            "[flaml.automl.logger: 05-04 20:14:59] {2383} INFO -  at 2.0s,\testimator xgboost's best error=0.3787,\tbest estimator lgbm's best error=0.3614\n",
            "[flaml.automl.logger: 05-04 20:14:59] {2210} INFO - iteration 4, current learner lgbm\n"
          ]
        },
        {
          "output_type": "stream",
          "name": "stderr",
          "text": [
            "/usr/local/lib/python3.10/dist-packages/xgboost/data.py:192: FutureWarning: pandas.Int64Index is deprecated and will be removed from pandas in a future version. Use pandas.Index with the appropriate dtype instead.\n",
            "  from pandas import MultiIndex, Int64Index\n"
          ]
        },
        {
          "output_type": "stream",
          "name": "stdout",
          "text": [
            "[flaml.automl.logger: 05-04 20:15:00] {2383} INFO -  at 2.3s,\testimator lgbm's best error=0.3614,\tbest estimator lgbm's best error=0.3614\n",
            "[flaml.automl.logger: 05-04 20:15:00] {2210} INFO - iteration 5, current learner lgbm\n",
            "[flaml.automl.logger: 05-04 20:15:00] {2383} INFO -  at 2.4s,\testimator lgbm's best error=0.3614,\tbest estimator lgbm's best error=0.3614\n",
            "[flaml.automl.logger: 05-04 20:15:00] {2210} INFO - iteration 6, current learner lgbm\n",
            "[flaml.automl.logger: 05-04 20:15:00] {2383} INFO -  at 2.7s,\testimator lgbm's best error=0.3614,\tbest estimator lgbm's best error=0.3614\n",
            "[flaml.automl.logger: 05-04 20:15:00] {2210} INFO - iteration 7, current learner lgbm\n",
            "[flaml.automl.logger: 05-04 20:15:00] {2383} INFO -  at 3.0s,\testimator lgbm's best error=0.3614,\tbest estimator lgbm's best error=0.3614\n",
            "[flaml.automl.logger: 05-04 20:15:00] {2210} INFO - iteration 8, current learner lgbm\n",
            "[flaml.automl.logger: 05-04 20:15:00] {2383} INFO -  at 3.2s,\testimator lgbm's best error=0.3614,\tbest estimator lgbm's best error=0.3614\n",
            "[flaml.automl.logger: 05-04 20:15:00] {2210} INFO - iteration 9, current learner xgboost\n"
          ]
        },
        {
          "output_type": "stream",
          "name": "stderr",
          "text": [
            "/usr/local/lib/python3.10/dist-packages/xgboost/data.py:192: FutureWarning: pandas.Int64Index is deprecated and will be removed from pandas in a future version. Use pandas.Index with the appropriate dtype instead.\n",
            "  from pandas import MultiIndex, Int64Index\n"
          ]
        },
        {
          "output_type": "stream",
          "name": "stdout",
          "text": [
            "[flaml.automl.logger: 05-04 20:15:01] {2383} INFO -  at 3.5s,\testimator xgboost's best error=0.3787,\tbest estimator lgbm's best error=0.3614\n",
            "[flaml.automl.logger: 05-04 20:15:01] {2210} INFO - iteration 10, current learner xgboost\n"
          ]
        },
        {
          "output_type": "stream",
          "name": "stderr",
          "text": [
            "/usr/local/lib/python3.10/dist-packages/xgboost/data.py:192: FutureWarning: pandas.Int64Index is deprecated and will be removed from pandas in a future version. Use pandas.Index with the appropriate dtype instead.\n",
            "  from pandas import MultiIndex, Int64Index\n"
          ]
        },
        {
          "output_type": "stream",
          "name": "stdout",
          "text": [
            "[flaml.automl.logger: 05-04 20:15:01] {2383} INFO -  at 4.1s,\testimator xgboost's best error=0.3604,\tbest estimator xgboost's best error=0.3604\n",
            "[flaml.automl.logger: 05-04 20:15:01] {2210} INFO - iteration 11, current learner extra_tree\n",
            "[flaml.automl.logger: 05-04 20:15:01] {2383} INFO -  at 4.2s,\testimator extra_tree's best error=0.3787,\tbest estimator xgboost's best error=0.3604\n",
            "[flaml.automl.logger: 05-04 20:15:01] {2210} INFO - iteration 12, current learner extra_tree\n",
            "[flaml.automl.logger: 05-04 20:15:02] {2383} INFO -  at 4.3s,\testimator extra_tree's best error=0.3787,\tbest estimator xgboost's best error=0.3604\n",
            "[flaml.automl.logger: 05-04 20:15:02] {2210} INFO - iteration 13, current learner extra_tree\n",
            "[flaml.automl.logger: 05-04 20:15:02] {2383} INFO -  at 4.5s,\testimator extra_tree's best error=0.3787,\tbest estimator xgboost's best error=0.3604\n",
            "[flaml.automl.logger: 05-04 20:15:02] {2210} INFO - iteration 14, current learner rf\n",
            "[flaml.automl.logger: 05-04 20:15:02] {2383} INFO -  at 4.6s,\testimator rf's best error=0.3816,\tbest estimator xgboost's best error=0.3604\n",
            "[flaml.automl.logger: 05-04 20:15:02] {2210} INFO - iteration 15, current learner rf\n",
            "[flaml.automl.logger: 05-04 20:15:02] {2383} INFO -  at 4.7s,\testimator rf's best error=0.3791,\tbest estimator xgboost's best error=0.3604\n",
            "[flaml.automl.logger: 05-04 20:15:02] {2210} INFO - iteration 16, current learner lgbm\n",
            "[flaml.automl.logger: 05-04 20:15:02] {2383} INFO -  at 5.1s,\testimator lgbm's best error=0.3550,\tbest estimator lgbm's best error=0.3550\n",
            "[flaml.automl.logger: 05-04 20:15:02] {2210} INFO - iteration 17, current learner xgboost\n"
          ]
        },
        {
          "output_type": "stream",
          "name": "stderr",
          "text": [
            "/usr/local/lib/python3.10/dist-packages/xgboost/data.py:192: FutureWarning: pandas.Int64Index is deprecated and will be removed from pandas in a future version. Use pandas.Index with the appropriate dtype instead.\n",
            "  from pandas import MultiIndex, Int64Index\n"
          ]
        },
        {
          "output_type": "stream",
          "name": "stdout",
          "text": [
            "[flaml.automl.logger: 05-04 20:15:05] {2383} INFO -  at 7.5s,\testimator xgboost's best error=0.3601,\tbest estimator lgbm's best error=0.3550\n",
            "[flaml.automl.logger: 05-04 20:15:05] {2210} INFO - iteration 18, current learner lgbm\n",
            "[flaml.automl.logger: 05-04 20:15:05] {2383} INFO -  at 7.8s,\testimator lgbm's best error=0.3550,\tbest estimator lgbm's best error=0.3550\n",
            "[flaml.automl.logger: 05-04 20:15:05] {2210} INFO - iteration 19, current learner rf\n",
            "[flaml.automl.logger: 05-04 20:15:05] {2383} INFO -  at 8.1s,\testimator rf's best error=0.3791,\tbest estimator lgbm's best error=0.3550\n",
            "[flaml.automl.logger: 05-04 20:15:05] {2210} INFO - iteration 20, current learner lgbm\n",
            "[flaml.automl.logger: 05-04 20:15:06] {2383} INFO -  at 8.9s,\testimator lgbm's best error=0.3545,\tbest estimator lgbm's best error=0.3545\n",
            "[flaml.automl.logger: 05-04 20:15:06] {2210} INFO - iteration 21, current learner lgbm\n",
            "[flaml.automl.logger: 05-04 20:15:07] {2383} INFO -  at 9.4s,\testimator lgbm's best error=0.3545,\tbest estimator lgbm's best error=0.3545\n",
            "[flaml.automl.logger: 05-04 20:15:07] {2210} INFO - iteration 22, current learner lgbm\n",
            "[flaml.automl.logger: 05-04 20:15:08] {2383} INFO -  at 10.9s,\testimator lgbm's best error=0.3545,\tbest estimator lgbm's best error=0.3545\n",
            "[flaml.automl.logger: 05-04 20:15:08] {2210} INFO - iteration 23, current learner catboost\n",
            "[flaml.automl.logger: 05-04 20:15:10] {2383} INFO -  at 13.0s,\testimator catboost's best error=0.3587,\tbest estimator lgbm's best error=0.3545\n",
            "[flaml.automl.logger: 05-04 20:15:10] {2210} INFO - iteration 24, current learner lgbm\n",
            "[flaml.automl.logger: 05-04 20:15:11] {2383} INFO -  at 13.3s,\testimator lgbm's best error=0.3536,\tbest estimator lgbm's best error=0.3536\n",
            "[flaml.automl.logger: 05-04 20:15:11] {2210} INFO - iteration 25, current learner catboost\n",
            "[flaml.automl.logger: 05-04 20:15:11] {2383} INFO -  at 13.7s,\testimator catboost's best error=0.3587,\tbest estimator lgbm's best error=0.3536\n",
            "[flaml.automl.logger: 05-04 20:15:11] {2210} INFO - iteration 26, current learner catboost\n",
            "[flaml.automl.logger: 05-04 20:15:13] {2383} INFO -  at 15.5s,\testimator catboost's best error=0.3587,\tbest estimator lgbm's best error=0.3536\n",
            "[flaml.automl.logger: 05-04 20:15:13] {2210} INFO - iteration 27, current learner lgbm\n",
            "[flaml.automl.logger: 05-04 20:15:13] {2383} INFO -  at 16.1s,\testimator lgbm's best error=0.3536,\tbest estimator lgbm's best error=0.3536\n",
            "[flaml.automl.logger: 05-04 20:15:13] {2210} INFO - iteration 28, current learner catboost\n",
            "[flaml.automl.logger: 05-04 20:15:22] {2383} INFO -  at 24.5s,\testimator catboost's best error=0.3587,\tbest estimator lgbm's best error=0.3536\n",
            "[flaml.automl.logger: 05-04 20:15:22] {2210} INFO - iteration 29, current learner catboost\n",
            "[flaml.automl.logger: 05-04 20:15:32] {2383} INFO -  at 35.2s,\testimator catboost's best error=0.3499,\tbest estimator catboost's best error=0.3499\n",
            "[flaml.automl.logger: 05-04 20:15:32] {2210} INFO - iteration 30, current learner catboost\n",
            "[flaml.automl.logger: 05-04 20:15:36] {2383} INFO -  at 38.4s,\testimator catboost's best error=0.3481,\tbest estimator catboost's best error=0.3481\n",
            "[flaml.automl.logger: 05-04 20:15:36] {2210} INFO - iteration 31, current learner rf\n",
            "[flaml.automl.logger: 05-04 20:15:36] {2383} INFO -  at 38.4s,\testimator rf's best error=0.3791,\tbest estimator catboost's best error=0.3481\n",
            "[flaml.automl.logger: 05-04 20:15:36] {2210} INFO - iteration 32, current learner lgbm\n",
            "[flaml.automl.logger: 05-04 20:15:37] {2383} INFO -  at 39.5s,\testimator lgbm's best error=0.3536,\tbest estimator catboost's best error=0.3481\n",
            "[flaml.automl.logger: 05-04 20:15:37] {2210} INFO - iteration 33, current learner rf\n",
            "[flaml.automl.logger: 05-04 20:15:37] {2383} INFO -  at 39.6s,\testimator rf's best error=0.3789,\tbest estimator catboost's best error=0.3481\n",
            "[flaml.automl.logger: 05-04 20:15:37] {2210} INFO - iteration 34, current learner catboost\n",
            "[flaml.automl.logger: 05-04 20:16:08] {2383} INFO -  at 70.8s,\testimator catboost's best error=0.3481,\tbest estimator catboost's best error=0.3481\n",
            "[flaml.automl.logger: 05-04 20:16:08] {2210} INFO - iteration 35, current learner xgb_limitdepth\n"
          ]
        },
        {
          "output_type": "stream",
          "name": "stderr",
          "text": [
            "/usr/local/lib/python3.10/dist-packages/xgboost/data.py:192: FutureWarning: pandas.Int64Index is deprecated and will be removed from pandas in a future version. Use pandas.Index with the appropriate dtype instead.\n",
            "  from pandas import MultiIndex, Int64Index\n"
          ]
        },
        {
          "output_type": "stream",
          "name": "stdout",
          "text": [
            "[flaml.automl.logger: 05-04 20:16:09] {2383} INFO -  at 71.7s,\testimator xgb_limitdepth's best error=0.3630,\tbest estimator catboost's best error=0.3481\n",
            "[flaml.automl.logger: 05-04 20:16:09] {2210} INFO - iteration 36, current learner xgb_limitdepth\n"
          ]
        },
        {
          "output_type": "stream",
          "name": "stderr",
          "text": [
            "/usr/local/lib/python3.10/dist-packages/xgboost/data.py:192: FutureWarning: pandas.Int64Index is deprecated and will be removed from pandas in a future version. Use pandas.Index with the appropriate dtype instead.\n",
            "  from pandas import MultiIndex, Int64Index\n"
          ]
        },
        {
          "output_type": "stream",
          "name": "stdout",
          "text": [
            "[flaml.automl.logger: 05-04 20:16:10] {2383} INFO -  at 72.5s,\testimator xgb_limitdepth's best error=0.3630,\tbest estimator catboost's best error=0.3481\n",
            "[flaml.automl.logger: 05-04 20:16:10] {2210} INFO - iteration 37, current learner xgb_limitdepth\n"
          ]
        },
        {
          "output_type": "stream",
          "name": "stderr",
          "text": [
            "/usr/local/lib/python3.10/dist-packages/xgboost/data.py:192: FutureWarning: pandas.Int64Index is deprecated and will be removed from pandas in a future version. Use pandas.Index with the appropriate dtype instead.\n",
            "  from pandas import MultiIndex, Int64Index\n"
          ]
        },
        {
          "output_type": "stream",
          "name": "stdout",
          "text": [
            "[flaml.automl.logger: 05-04 20:16:12] {2383} INFO -  at 74.8s,\testimator xgb_limitdepth's best error=0.3630,\tbest estimator catboost's best error=0.3481\n",
            "[flaml.automl.logger: 05-04 20:16:12] {2210} INFO - iteration 38, current learner xgb_limitdepth\n"
          ]
        },
        {
          "output_type": "stream",
          "name": "stderr",
          "text": [
            "/usr/local/lib/python3.10/dist-packages/xgboost/data.py:192: FutureWarning: pandas.Int64Index is deprecated and will be removed from pandas in a future version. Use pandas.Index with the appropriate dtype instead.\n",
            "  from pandas import MultiIndex, Int64Index\n"
          ]
        },
        {
          "output_type": "stream",
          "name": "stdout",
          "text": [
            "[flaml.automl.logger: 05-04 20:16:14] {2383} INFO -  at 76.8s,\testimator xgb_limitdepth's best error=0.3630,\tbest estimator catboost's best error=0.3481\n",
            "[flaml.automl.logger: 05-04 20:16:14] {2210} INFO - iteration 39, current learner xgb_limitdepth\n"
          ]
        },
        {
          "output_type": "stream",
          "name": "stderr",
          "text": [
            "/usr/local/lib/python3.10/dist-packages/xgboost/data.py:192: FutureWarning: pandas.Int64Index is deprecated and will be removed from pandas in a future version. Use pandas.Index with the appropriate dtype instead.\n",
            "  from pandas import MultiIndex, Int64Index\n"
          ]
        },
        {
          "output_type": "stream",
          "name": "stdout",
          "text": [
            "[flaml.automl.logger: 05-04 20:16:16] {2383} INFO -  at 78.4s,\testimator xgb_limitdepth's best error=0.3572,\tbest estimator catboost's best error=0.3481\n",
            "[flaml.automl.logger: 05-04 20:16:16] {2210} INFO - iteration 40, current learner extra_tree\n",
            "[flaml.automl.logger: 05-04 20:16:16] {2383} INFO -  at 78.5s,\testimator extra_tree's best error=0.3787,\tbest estimator catboost's best error=0.3481\n",
            "[flaml.automl.logger: 05-04 20:16:16] {2210} INFO - iteration 41, current learner catboost\n",
            "[flaml.automl.logger: 05-04 20:16:49] {2383} INFO -  at 111.6s,\testimator catboost's best error=0.3384,\tbest estimator catboost's best error=0.3384\n",
            "[flaml.automl.logger: 05-04 20:16:49] {2210} INFO - iteration 42, current learner lrl1\n"
          ]
        },
        {
          "output_type": "stream",
          "name": "stderr",
          "text": [
            "INFO:flaml.tune.searcher.blendsearch:No low-cost partial config given to the search algorithm. For cost-frugal search, consider providing low-cost values for cost-related hps via 'low_cost_partial_config'. More info can be found at https://microsoft.github.io/FLAML/docs/FAQ#about-low_cost_partial_config-in-tune\n"
          ]
        },
        {
          "output_type": "stream",
          "name": "stdout",
          "text": [
            "[flaml.automl.logger: 05-04 20:16:49] {2383} INFO -  at 111.9s,\testimator lrl1's best error=0.4339,\tbest estimator catboost's best error=0.3384\n",
            "[flaml.automl.logger: 05-04 20:16:49] {2210} INFO - iteration 43, current learner lrl1\n"
          ]
        },
        {
          "output_type": "stream",
          "name": "stderr",
          "text": [
            "/usr/local/lib/python3.10/dist-packages/sklearn/linear_model/_sag.py:352: ConvergenceWarning: The max_iter was reached which means the coef_ did not converge\n",
            "  warnings.warn(\n"
          ]
        },
        {
          "output_type": "stream",
          "name": "stdout",
          "text": [
            "[flaml.automl.logger: 05-04 20:16:49] {2383} INFO -  at 112.2s,\testimator lrl1's best error=0.4338,\tbest estimator catboost's best error=0.3384\n",
            "[flaml.automl.logger: 05-04 20:16:49] {2210} INFO - iteration 44, current learner xgb_limitdepth\n"
          ]
        },
        {
          "output_type": "stream",
          "name": "stderr",
          "text": [
            "/usr/local/lib/python3.10/dist-packages/sklearn/linear_model/_sag.py:352: ConvergenceWarning: The max_iter was reached which means the coef_ did not converge\n",
            "  warnings.warn(\n",
            "/usr/local/lib/python3.10/dist-packages/xgboost/data.py:192: FutureWarning: pandas.Int64Index is deprecated and will be removed from pandas in a future version. Use pandas.Index with the appropriate dtype instead.\n",
            "  from pandas import MultiIndex, Int64Index\n"
          ]
        },
        {
          "output_type": "stream",
          "name": "stdout",
          "text": [
            "[flaml.automl.logger: 05-04 20:16:50] {2383} INFO -  at 112.4s,\testimator xgb_limitdepth's best error=0.3572,\tbest estimator catboost's best error=0.3384\n",
            "[flaml.automl.logger: 05-04 20:16:50] {2210} INFO - iteration 45, current learner lgbm\n",
            "[flaml.automl.logger: 05-04 20:16:52] {2383} INFO -  at 114.3s,\testimator lgbm's best error=0.3528,\tbest estimator catboost's best error=0.3384\n",
            "[flaml.automl.logger: 05-04 20:16:52] {2210} INFO - iteration 46, current learner xgb_limitdepth\n"
          ]
        },
        {
          "output_type": "stream",
          "name": "stderr",
          "text": [
            "/usr/local/lib/python3.10/dist-packages/xgboost/data.py:192: FutureWarning: pandas.Int64Index is deprecated and will be removed from pandas in a future version. Use pandas.Index with the appropriate dtype instead.\n",
            "  from pandas import MultiIndex, Int64Index\n"
          ]
        },
        {
          "output_type": "stream",
          "name": "stdout",
          "text": [
            "[flaml.automl.logger: 05-04 20:16:52] {2383} INFO -  at 115.1s,\testimator xgb_limitdepth's best error=0.3572,\tbest estimator catboost's best error=0.3384\n",
            "[flaml.automl.logger: 05-04 20:16:52] {2210} INFO - iteration 47, current learner xgb_limitdepth\n"
          ]
        },
        {
          "output_type": "stream",
          "name": "stderr",
          "text": [
            "/usr/local/lib/python3.10/dist-packages/xgboost/data.py:192: FutureWarning: pandas.Int64Index is deprecated and will be removed from pandas in a future version. Use pandas.Index with the appropriate dtype instead.\n",
            "  from pandas import MultiIndex, Int64Index\n"
          ]
        },
        {
          "output_type": "stream",
          "name": "stdout",
          "text": [
            "[flaml.automl.logger: 05-04 20:16:53] {2383} INFO -  at 115.5s,\testimator xgb_limitdepth's best error=0.3572,\tbest estimator catboost's best error=0.3384\n",
            "[flaml.automl.logger: 05-04 20:16:53] {2210} INFO - iteration 48, current learner xgb_limitdepth\n"
          ]
        },
        {
          "output_type": "stream",
          "name": "stderr",
          "text": [
            "/usr/local/lib/python3.10/dist-packages/xgboost/data.py:192: FutureWarning: pandas.Int64Index is deprecated and will be removed from pandas in a future version. Use pandas.Index with the appropriate dtype instead.\n",
            "  from pandas import MultiIndex, Int64Index\n"
          ]
        },
        {
          "output_type": "stream",
          "name": "stdout",
          "text": [
            "[flaml.automl.logger: 05-04 20:16:56] {2383} INFO -  at 119.1s,\testimator xgb_limitdepth's best error=0.3572,\tbest estimator catboost's best error=0.3384\n",
            "[flaml.automl.logger: 05-04 20:16:56] {2210} INFO - iteration 49, current learner catboost\n",
            "[flaml.automl.logger: 05-04 20:24:59] {2383} INFO -  at 601.8s,\testimator catboost's best error=0.3384,\tbest estimator catboost's best error=0.3384\n",
            "[flaml.automl.logger: 05-04 20:25:14] {2619} INFO - retrain catboost for 14.9s\n",
            "[flaml.automl.logger: 05-04 20:25:14] {2622} INFO - retrained model: <catboost.core.CatBoostClassifier object at 0x7f8548383640>\n",
            "[flaml.automl.logger: 05-04 20:25:14] {1930} INFO - fit succeeded\n",
            "[flaml.automl.logger: 05-04 20:25:14] {1931} INFO - Time taken to find the best model: 111.62273120880127\n"
          ]
        }
      ],
      "source": [
        "'''The main flaml automl API'''\n",
        "automl.fit(X_train=X_train, y_train=y_train, **settings)"
      ]
    },
    {
      "cell_type": "code",
      "execution_count": null,
      "metadata": {
        "tags": [],
        "id": "1vF72BxEU0t9"
      },
      "outputs": [],
      "source": [
        "'''retrieve best config and best learner'''\n",
        "print('Best ML leaner:', automl.best_estimator)\n",
        "print('Best hyperparmeter config:', automl.best_config)\n",
        "print('Best accuracy on validation data: {0:.4g}'.format(1-automl.best_loss))\n",
        "print('Training duration of best run: {0:.4g} s'.format(automl.best_config_train_time))"
      ]
    },
    {
      "cell_type": "code",
      "source": [
        "automl.model.estimator"
      ],
      "metadata": {
        "id": "DcsOm5A_U4he"
      },
      "execution_count": null,
      "outputs": []
    },
    {
      "cell_type": "code",
      "source": [],
      "metadata": {
        "id": "PeFmyqF6VEcE"
      },
      "execution_count": null,
      "outputs": []
    },
    {
      "cell_type": "code",
      "execution_count": null,
      "metadata": {
        "id": "Oi51zb7-Mf2-"
      },
      "outputs": [],
      "source": [
        "'''pickle and save the automl object'''\n",
        "import pickle\n",
        "with open('automl.pkl', 'wb') as f:\n",
        "    pickle.dump(automl, f, pickle.HIGHEST_PROTOCOL)\n",
        "'''load pickled automl object'''\n",
        "with open('automl.pkl', 'rb') as f:\n",
        "    automl = pickle.load(f)"
      ]
    },
    {
      "cell_type": "code",
      "source": [],
      "metadata": {
        "id": "_KmdDG5_VFV2"
      },
      "execution_count": null,
      "outputs": []
    }
  ]
}